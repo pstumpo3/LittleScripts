{
 "cells": [
  {
   "cell_type": "markdown",
   "metadata": {},
   "source": [
    "### GetHistoricalPortfolio\n",
    "**GetHistoricalPortfolio request and converting response to .csv file**"
   ]
  },
  {
   "cell_type": "code",
   "execution_count": 23,
   "metadata": {},
   "outputs": [],
   "source": [
    "import requests\n",
    "from requests.auth import HTTPBasicAuth\n",
    "import json\n",
    "from xml.etree import ElementTree\n",
    "import xmltodict\n",
    "import csv\n",
    "import time\n",
    "\n",
    "\n",
    "#### READING JSON CONFIG ####\n",
    "with open('apiConfig.json') as file:\n",
    "    dictC = json.load(file)\n",
    "    \n",
    "    \n",
    "#### OPEN WEB SESSION TO KEEP IN MEMORY ALL COOKIES AND THEN API CALL ####\n",
    "session = requests.session()\n",
    "getLoginCookie_API = session.get(dictC['BaseURL']+dictC['login'], \n",
    "                                 auth = HTTPBasicAuth(dictC['username'],dictC['pw']), \n",
    "                                 headers = dictC['headers'])\n",
    "getHistoricalPortfolio_API = session.get(dictC['BaseURL']+dictC['getPortfolio'], \n",
    "                                         params = dictC['paramGetHistoricalPortfolio'], \n",
    "                                         headers = dictC['headers'])\n",
    "\n",
    "\n",
    "#### EXTRACT DATA & WRITE CSV ####\n",
    "dictGetHistoricalPortfolio_API = xmltodict.parse(getHistoricalPortfolio_API.content)\n",
    "\n",
    "columnName = list(dictC['responseColumnPortfolio'].values())\n",
    "\n",
    "with open('getHistoricalPortfolio_'+time.strftime(\"%Y-%m-%d_%H-%M-%S\")+'.csv', 'w', newline = '') as csv_file:\n",
    "    csvwriter = csv.writer(csv_file, delimiter = '|')\n",
    "    csvwriter.writerow(columnName)\n",
    "    for portfolioList in dictGetHistoricalPortfolio_API:\n",
    "        for portfolio in (dictGetHistoricalPortfolio_API[portfolioList]):\n",
    "            for i in range (len(dictGetHistoricalPortfolio_API[portfolioList][portfolio])):\n",
    "                \n",
    "                csvwriter.writerow([portfolio, \n",
    "                                    dictGetHistoricalPortfolio_API[portfolioList][portfolio][i][columnName[1]],\n",
    "                                    dictGetHistoricalPortfolio_API[portfolioList][portfolio][i][columnName[2]],\n",
    "                                    dictGetHistoricalPortfolio_API[portfolioList][portfolio][i][columnName[3]],\n",
    "                                    dictGetHistoricalPortfolio_API[portfolioList][portfolio][i][columnName[4]]])"
   ]
  }
 ],
 "metadata": {
  "kernelspec": {
   "display_name": "Python 3",
   "language": "python",
   "name": "python3"
  },
  "language_info": {
   "codemirror_mode": {
    "name": "ipython",
    "version": 3
   },
   "file_extension": ".py",
   "mimetype": "text/x-python",
   "name": "python",
   "nbconvert_exporter": "python",
   "pygments_lexer": "ipython3",
   "version": "3.8.5"
  }
 },
 "nbformat": 4,
 "nbformat_minor": 4
}
