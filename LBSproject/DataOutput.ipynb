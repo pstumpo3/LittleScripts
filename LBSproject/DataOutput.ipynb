{
 "cells": [
  {
   "cell_type": "markdown",
   "metadata": {},
   "source": [
    "### DATA OUTPUT\n",
    "**Data output request and converting response to .csv file**"
   ]
  },
  {
   "cell_type": "code",
   "execution_count": 1,
   "metadata": {},
   "outputs": [],
   "source": [
    "import requests\n",
    "from requests.auth import HTTPBasicAuth\n",
    "import json\n",
    "import xmltodict\n",
    "import csv\n",
    "import time\n",
    "\n",
    "##### DEFINE A RECURSIVE FUNCTION TO EXTRACT ALL FIELDS FROM THE RESPONSE #####\n",
    "toHeader = []\n",
    "toWrite = []\n",
    "def RecursiveWriting(dictionary):\n",
    "    if isinstance(dictionary, list):\n",
    "        for j in range (len(dictionary)):\n",
    "            return RecursiveWriting(dictionary[j])\n",
    "    elif isinstance(dictionary, dict):\n",
    "        key = list(dictionary.keys())\n",
    "        value = list(dictionary.values())\n",
    "    \n",
    "    for i in range (len(dictionary)):\n",
    "        if isinstance(value[i], dict):\n",
    "            RecursiveWriting(value[i])\n",
    "        elif isinstance(value[i],list):\n",
    "            RecursiveWriting(value[i])\n",
    "        else:\n",
    "            toHeader.append(key[i])\n",
    "            toWrite.append(value[i])\n",
    "    return toHeader,toWrite\n",
    "\n",
    "\n",
    "\n",
    "#### READING JSON CONFIG ####\n",
    "with open('apiConfig.json') as file:\n",
    "    dictC = json.load(file)\n",
    "\n",
    "    \n",
    "#### OPEN WEB SESSION TO KEEP IN MEMORY ALL COOKIES AND THEN API CALL ####\n",
    "session = requests.session()\n",
    "getLoginCookie_API = session.get(dictC['BaseURL']+dictC['login'], \n",
    "                                 auth = HTTPBasicAuth(dictC['username'],dictC['pw']), \n",
    "                                 headers = dictC['headers'])\n",
    "getDataOutput_API = session.get(dictC['BaseURL']+dictC['dataOutput'], \n",
    "                                         params = dictC['paramDataOutput'], \n",
    "                                         headers = dictC['headers'])\n",
    "\n",
    "\n",
    "\n",
    "# for this dictionary, it is necessary to use manipulation string #\n",
    "# 'cause of the dict parsing fault casued by the first line of the response: #\n",
    "# (<?xml version [...]>) #\n",
    "dataOutput_API_start = ((getDataOutput_API.content).decode('utf-8')).find('>')+1\n",
    "dataOutput_API_string = (getDataOutput_API.content).decode('utf-8')[dataOutput_API_start:]\n",
    "dictDataOutput_API = xmltodict.parse(dataOutput_API_string.encode('utf-8'))\n",
    "\n",
    "\n",
    "\n",
    "#### EXTRACT DATA & WRITE .CSV ####\n",
    "chiave,valore = RecursiveWriting(dictDataOutput_API)\n",
    "with open('dataOutput_'+time.strftime(\"%Y%m%d-%H%M%S\")+'.csv', 'w', newline='') as csv_file:\n",
    "    csvwriter = csv.writer(csv_file, delimiter = '|')\n",
    "    csvwriter.writerow(chiave) \n",
    "    csvwriter.writerow(valore)"
   ]
  },
  {
   "cell_type": "code",
   "execution_count": null,
   "metadata": {},
   "outputs": [],
   "source": []
  }
 ],
 "metadata": {
  "kernelspec": {
   "display_name": "Python 3",
   "language": "python",
   "name": "python3"
  },
  "language_info": {
   "codemirror_mode": {
    "name": "ipython",
    "version": 3
   },
   "file_extension": ".py",
   "mimetype": "text/x-python",
   "name": "python",
   "nbconvert_exporter": "python",
   "pygments_lexer": "ipython3",
   "version": "3.8.5"
  }
 },
 "nbformat": 4,
 "nbformat_minor": 4
}
