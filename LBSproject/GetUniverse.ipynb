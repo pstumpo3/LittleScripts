{
 "cells": [
  {
   "cell_type": "markdown",
   "metadata": {},
   "source": [
    "### GetUniverse\n",
    "**GetUniverse request and converting response to .csv file**"
   ]
  },
  {
   "cell_type": "code",
   "execution_count": 1,
   "metadata": {},
   "outputs": [],
   "source": [
    "import requests\n",
    "from requests.auth import HTTPBasicAuth\n",
    "import json\n",
    "import xmltodict\n",
    "import csv\n",
    "import time\n",
    "\n",
    "\n",
    "#### READING JSON CONFIG ####\n",
    "with open('apiConfig.json') as file:\n",
    "    dictC = json.load(file)\n",
    "\n",
    "\n",
    "#### OPEN WEB SESSION TO KEEP IN MEMORY ALL COOKIES AND THEN API CALL ####\n",
    "session = requests.session()\n",
    "getLoginCookie_API = session.get(dictC['BaseURL']+dictC['login'], \n",
    "                                 auth = HTTPBasicAuth(dictC['username'],dictC['pw']), \n",
    "                                 headers = dictC['headers'])\n",
    "getUniverse_API = session.get(dictC['BaseURL']+dictC['getUniverse'], \n",
    "                                         params = dictC['paramGetUniverse'], \n",
    "                                         headers = dictC['headers'])\n",
    "\n",
    "#### EXTRACT DATA & WRITE .CSV ####\n",
    "\n",
    "dictGetUniverse_API = xmltodict.parse(getUniverse_API.content)\n",
    "\n",
    "columnName = list(dictC['responseColumnUniverse'].values())\n",
    "keyLNT = dictC['keyLastUpdated_NT']\n",
    "\n",
    "\n",
    "with open('getUniverse_'+time.strftime(\"%Y-%m-%d_%H-%M-%S\")+'.csv', 'w', newline = '') as csv_file:\n",
    "    csvwriter = csv.writer(csv_file, delimiter = '|')\n",
    "    csvwriter.writerow(columnName)\n",
    "    for fundShareClassList in dictGetUniverse_API:\n",
    "        for shareClass in (dictGetUniverse_API[fundShareClassList]):\n",
    "            for i in range (len(dictGetUniverse_API[fundShareClassList][shareClass])):\n",
    "                for j in range (len(dictGetUniverse_API[fundShareClassList][shareClass][i][keyLNT])):\n",
    "                    \n",
    "                    ###### only with @_Type = 4, the response contains @_Id values ######\n",
    "                    if (dictGetUniverse_API[fundShareClassList][shareClass][i][keyLNT][j][columnName[7]] == '4'):\n",
    "                        csvwriter.writerow([shareClass, \n",
    "                                            dictGetUniverse_API[fundShareClassList][shareClass][i][columnName[1]],\n",
    "                                            dictGetUniverse_API[fundShareClassList][shareClass][i][columnName[2]],\n",
    "                                            dictGetUniverse_API[fundShareClassList][shareClass][i][columnName[3]],\n",
    "                                            dictGetUniverse_API[fundShareClassList][shareClass][i][columnName[4]],\n",
    "                                            dictGetUniverse_API[fundShareClassList][shareClass][i][columnName[5]], \n",
    "                                            dictGetUniverse_API[fundShareClassList][shareClass][i][columnName[6]],\n",
    "                                            dictGetUniverse_API[fundShareClassList][shareClass][i][keyLNT][j][columnName[7]],\n",
    "                                            dictGetUniverse_API[fundShareClassList][shareClass][i][keyLNT][j][columnName[8]],\n",
    "                                            dictGetUniverse_API[fundShareClassList][shareClass][i][keyLNT][j][columnName[9]]])\n",
    "                    else:\n",
    "                        csvwriter.writerow([shareClass, \n",
    "                                            dictGetUniverse_API[fundShareClassList][shareClass][i][columnName[1]],\n",
    "                                            dictGetUniverse_API[fundShareClassList][shareClass][i][columnName[2]],\n",
    "                                            dictGetUniverse_API[fundShareClassList][shareClass][i][columnName[3]],\n",
    "                                            dictGetUniverse_API[fundShareClassList][shareClass][i][columnName[4]],\n",
    "                                            dictGetUniverse_API[fundShareClassList][shareClass][i][columnName[5]], \n",
    "                                            dictGetUniverse_API[fundShareClassList][shareClass][i][columnName[6]],\n",
    "                                            dictGetUniverse_API[fundShareClassList][shareClass][i][keyLNT][j][columnName[7]],\n",
    "                                            'N/A', #Not Available\n",
    "                                            dictGetUniverse_API[fundShareClassList][shareClass][i][keyLNT][j][columnName[9]]])"
   ]
  },
  {
   "cell_type": "code",
   "execution_count": null,
   "metadata": {},
   "outputs": [],
   "source": []
  }
 ],
 "metadata": {
  "kernelspec": {
   "display_name": "Python 3",
   "language": "python",
   "name": "python3"
  },
  "language_info": {
   "codemirror_mode": {
    "name": "ipython",
    "version": 3
   },
   "file_extension": ".py",
   "mimetype": "text/x-python",
   "name": "python",
   "nbconvert_exporter": "python",
   "pygments_lexer": "ipython3",
   "version": "3.8.5"
  }
 },
 "nbformat": 4,
 "nbformat_minor": 4
}
